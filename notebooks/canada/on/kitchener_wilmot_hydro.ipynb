{
 "cells": [
  {
   "cell_type": "markdown",
   "id": "81e22fbc",
   "metadata": {},
   "source": [
    "[![Binder](https://mybinder.org/badge_logo.svg)](https://mybinder.org/v2/gh/ryanfobel/utility-bill-scraper/main?labpath=notebooks%2Fcanada%2Fon%2Fkitchener_wilmot_hydro.ipynb)\n",
    "\n",
    "# Introduction\n",
    "\n",
    "This notebook demonstrates scraping of data from [Kitchener-Wilmot Hydro](https://www.kwhydro.on.ca) electricity bills. You can launch an interactive version of this page by clicking on the badge at the top of the page.\n",
    "\n",
    "## Setup\n",
    "\n",
    "Fill in your `username` and `password` below, then run all of the cells in the notebook (press `SHIFT`+`ENTER` to run each cell individually or run the entire notebook by selecting `Run`/`Run all cells` from the menu. After the notebook finishes running (~1-5 minutes), you'll be able to download your data as a `download.zip` file (containing both a summary `monthly.csv` and the `*.pdf` statements).This file should appear in the file browser on the left and you can download it by `Right-clicking` on it and clicking `Download`."
   ]
  },
  {
   "cell_type": "code",
   "execution_count": 1,
   "id": "842fee83",
   "metadata": {
    "lines_to_next_cell": 2
   },
   "outputs": [
    {
     "name": "stdout",
     "output_type": "stream",
     "text": [
      "Download file from google drive(file_id=16srVcNXMkblkPtm-j0nRk6D0iW5ieg48, local_path=C:\\Users\\Ryan\\AppData\\Local\\Temp\\tmp_zr0pfty\\monthly.csv\n",
      "Upload file to google drive folder(folder_id=1Tq4U1n8AjU_e1lZ8cvLVE8nHjtobH0lh, local_path=C:\\Users\\Ryan\\AppData\\Local\\Temp\\tmpfiazlia8\\2021-11-10 - Kitchener-Wilmot Hydro - $199.14.pdf\n",
      "Scrape data from C:\\Users\\Ryan\\AppData\\Local\\Temp\\tmpfiazlia8\\2021-11-10 - Kitchener-Wilmot Hydro - $199.14.pdf\n",
      "Upload file to google drive(file_id=16srVcNXMkblkPtm-j0nRk6D0iW5ieg48, local_path=C:\\Users\\Ryan\\AppData\\Local\\Temp\\tmp_zr0pfty\\monthly.csv\n",
      "1 statements_downloaded\n"
     ]
    },
    {
     "data": {
      "text/html": [
       "<div>\n",
       "<style scoped>\n",
       "    .dataframe tbody tr th:only-of-type {\n",
       "        vertical-align: middle;\n",
       "    }\n",
       "\n",
       "    .dataframe tbody tr th {\n",
       "        vertical-align: top;\n",
       "    }\n",
       "\n",
       "    .dataframe thead th {\n",
       "        text-align: right;\n",
       "    }\n",
       "</style>\n",
       "<table border=\"1\" class=\"dataframe\">\n",
       "  <thead>\n",
       "    <tr style=\"text-align: right;\">\n",
       "      <th></th>\n",
       "      <th>Total</th>\n",
       "      <th>Off Peak Consumption</th>\n",
       "      <th>Mid Peak Consumption</th>\n",
       "      <th>On Peak Consumption</th>\n",
       "      <th>Off Peak Rate</th>\n",
       "      <th>Mid Peak Rate</th>\n",
       "      <th>On Peak Rate</th>\n",
       "      <th>Total Consumption</th>\n",
       "    </tr>\n",
       "    <tr>\n",
       "      <th>Date</th>\n",
       "      <th></th>\n",
       "      <th></th>\n",
       "      <th></th>\n",
       "      <th></th>\n",
       "      <th></th>\n",
       "      <th></th>\n",
       "      <th></th>\n",
       "      <th></th>\n",
       "    </tr>\n",
       "  </thead>\n",
       "  <tbody>\n",
       "    <tr>\n",
       "      <th>2021-07-26</th>\n",
       "      <td>104.18</td>\n",
       "      <td>459.60</td>\n",
       "      <td>149.01</td>\n",
       "      <td>115.61</td>\n",
       "      <td>0.082</td>\n",
       "      <td>0.170</td>\n",
       "      <td>0.113</td>\n",
       "      <td>724.22</td>\n",
       "    </tr>\n",
       "    <tr>\n",
       "      <th>2021-08-25</th>\n",
       "      <td>93.69</td>\n",
       "      <td>356.50</td>\n",
       "      <td>126.59</td>\n",
       "      <td>126.09</td>\n",
       "      <td>0.082</td>\n",
       "      <td>0.170</td>\n",
       "      <td>0.113</td>\n",
       "      <td>609.18</td>\n",
       "    </tr>\n",
       "    <tr>\n",
       "      <th>2021-09-23</th>\n",
       "      <td>99.80</td>\n",
       "      <td>438.80</td>\n",
       "      <td>128.16</td>\n",
       "      <td>116.26</td>\n",
       "      <td>0.082</td>\n",
       "      <td>0.170</td>\n",
       "      <td>0.113</td>\n",
       "      <td>683.22</td>\n",
       "    </tr>\n",
       "    <tr>\n",
       "      <th>2021-10-20</th>\n",
       "      <td>92.14</td>\n",
       "      <td>387.96</td>\n",
       "      <td>133.76</td>\n",
       "      <td>96.00</td>\n",
       "      <td>0.082</td>\n",
       "      <td>0.113</td>\n",
       "      <td>0.170</td>\n",
       "      <td>617.72</td>\n",
       "    </tr>\n",
       "    <tr>\n",
       "      <th>2021-11-10</th>\n",
       "      <td>199.14</td>\n",
       "      <td>436.48</td>\n",
       "      <td>170.30</td>\n",
       "      <td>127.46</td>\n",
       "      <td>0.082</td>\n",
       "      <td>0.113</td>\n",
       "      <td>0.170</td>\n",
       "      <td>734.24</td>\n",
       "    </tr>\n",
       "  </tbody>\n",
       "</table>\n",
       "</div>"
      ],
      "text/plain": [
       "             Total  Off Peak Consumption  Mid Peak Consumption  \\\n",
       "Date                                                             \n",
       "2021-07-26  104.18                459.60                149.01   \n",
       "2021-08-25   93.69                356.50                126.59   \n",
       "2021-09-23   99.80                438.80                128.16   \n",
       "2021-10-20   92.14                387.96                133.76   \n",
       "2021-11-10  199.14                436.48                170.30   \n",
       "\n",
       "            On Peak Consumption  Off Peak Rate  Mid Peak Rate  On Peak Rate  \\\n",
       "Date                                                                          \n",
       "2021-07-26               115.61          0.082          0.170         0.113   \n",
       "2021-08-25               126.09          0.082          0.170         0.113   \n",
       "2021-09-23               116.26          0.082          0.170         0.113   \n",
       "2021-10-20                96.00          0.082          0.113         0.170   \n",
       "2021-11-10               127.46          0.082          0.113         0.170   \n",
       "\n",
       "            Total Consumption  \n",
       "Date                           \n",
       "2021-07-26             724.22  \n",
       "2021-08-25             609.18  \n",
       "2021-09-23             683.22  \n",
       "2021-10-20             617.72  \n",
       "2021-11-10             734.24  "
      ]
     },
     "execution_count": 1,
     "metadata": {},
     "output_type": "execute_result"
    }
   ],
   "source": [
    "username = \"\"\n",
    "password = \"\"\n",
    "\n",
    "# Plotting preferences\n",
    "bin_width = 0.9\n",
    "alpha = 0.5\n",
    "transparent = False\n",
    "bbox_inches = \"tight\"\n",
    "facecolor = \"white\"\n",
    "\n",
    "%matplotlib inline\n",
    "\n",
    "import datetime as dt\n",
    "import os\n",
    "import shutil\n",
    "\n",
    "import matplotlib.pyplot as plt\n",
    "import numpy as np\n",
    "from dotenv import load_dotenv\n",
    "from matplotlib import rcParams\n",
    "from cycler import cycler\n",
    "\n",
    "import utility_bill_scraper.canada.on.kitchener_wilmot_hydro as kwh\n",
    "\n",
    "# Scale the RGB values to the [0, 1] range, which is the format matplotlib accepts.\n",
    "def scale_rgb(colormap):\n",
    "    return [(r / 255.0, g / 255.0, b / 255.0) for r, g, b in colormap]\n",
    "\n",
    "\n",
    "light = scale_rgb(\n",
    "    [\n",
    "        (136, 189, 230),\n",
    "        (251, 178, 88),\n",
    "        (144, 205, 151),\n",
    "        (246, 170, 201),\n",
    "        (191, 165, 84),\n",
    "        (188, 153, 199),\n",
    "        (237, 221, 70),\n",
    "        (240, 126, 110),\n",
    "        (140, 140, 140),\n",
    "    ]\n",
    ")\n",
    "\n",
    "rcParams.update(\n",
    "    {\n",
    "        \"figure.figsize\": (12, 6),\n",
    "        \"font.size\": 12,\n",
    "        \"axes.prop_cycle\": cycler(\"color\", light),\n",
    "    }\n",
    ")\n",
    "\n",
    "# Load the `.env` file into the environment if it exists\n",
    "load_dotenv()\n",
    "\n",
    "# If we haven't set a username/password, try getting them from\n",
    "# environment variables.\n",
    "if not username:\n",
    "    username = os.getenv(\"KWHYDRO_USER\")\n",
    "if not password:\n",
    "    password = os.getenv(\"KWHYDRO_PASSWORD\")\n",
    "\n",
    "# Set the path where data is saved.\n",
    "data_path = os.getenv(\"DATA_PATH\", os.path.join(\"..\", \"..\", \"..\", \"data\"))\n",
    "\n",
    "# Get google service account credentials (if the environment variable is set).\n",
    "google_sa_credentials = os.getenv(\"GOOGLE_SA_CREDENTIALS\")\n",
    "\n",
    "# Uncomment the following 2 lines for development\n",
    "%load_ext autoreload\n",
    "%autoreload 2\n",
    "\n",
    "api = kwh.KitchenerWilmotHydroAPI(\n",
    "    username,\n",
    "    password,\n",
    "    data_path,\n",
    "    google_sa_credentials=google_sa_credentials,\n",
    ")\n",
    "\n",
    "# Get up to 24 statements (the most recent).\n",
    "updates = api.update(24)\n",
    "if updates is not None:\n",
    "    print(f\"{ len(updates) } statements_downloaded\")\n",
    "api.history(\"monthly\").tail()"
   ]
  },
  {
   "cell_type": "markdown",
   "id": "8fa0a3eb-9d0b-42fc-9af6-9e48b4555b44",
   "metadata": {},
   "source": [
    "## Monthly electricity consumption history"
   ]
  },
  {
   "cell_type": "code",
   "execution_count": 2,
   "id": "f155c108",
   "metadata": {
    "lines_to_next_cell": 0
   },
   "outputs": [
    {
     "data": {
      "text/plain": [
       "<Figure size 864x432 with 0 Axes>"
      ]
     },
     "metadata": {},
     "output_type": "display_data"
    },
    {
     "data": {
      "image/png": "[encoded data removed]",
      "text/plain": [
       "<Figure size 864x432 with 1 Axes>"
      ]
     },
     "metadata": {
      "needs_background": "light"
     },
     "output_type": "display_data"
    }
   ],
   "source": [
    "df = api.history(\"monthly\")\n",
    "\n",
    "plt.figure()\n",
    "df[[\"On Peak Consumption\", \"Mid Peak Consumption\", \"Off Peak Consumption\"]].plot.bar(\n",
    "    stacked=True, width=bin_width, color=[\"#F07E6E\", \"#EDDD46\", \"#90CD97\"]\n",
    ")\n",
    "plt.ylim((0, None))\n",
    "plt.title(\"Monthly Electricity Consumption\")\n",
    "plt.ylabel(\"kWh\")\n",
    "plt.legend([\"Off Peak\", \"Mid Peak\", \"On Peak\", \"Total\"])\n",
    "plt.savefig(\n",
    "    os.path.join(\"images\", \"monthly_electricity_consumption.png\"),\n",
    "    bbox_inches=bbox_inches,\n",
    "    transparent=transparent,\n",
    "    facecolor=facecolor,\n",
    ")"
   ]
  },
  {
   "cell_type": "markdown",
   "id": "806af92b-8784-4715-b894-b4964bb7a51e",
   "metadata": {},
   "source": [
    "## Annual CO2 emissions"
   ]
  },
  {
   "cell_type": "code",
   "execution_count": 3,
   "id": "297bedb8-bf51-45e4-ab1b-410438dbfa4e",
   "metadata": {},
   "outputs": [
    {
     "name": "stdout",
     "output_type": "stream",
     "text": [
      "annual electricity usage: 8019.3 kWh\n",
      "annual electricity cost: $1268.59\n",
      "annual CO2 emissions from electricity: 617.49 kg\n"
     ]
    },
    {
     "data": {
      "image/png": "[encoded data removed]",
      "text/plain": [
       "<Figure size 864x432 with 1 Axes>"
      ]
     },
     "metadata": {
      "needs_background": "light"
     },
     "output_type": "display_data"
    }
   ],
   "source": [
    "# Carbon intensity of electricity generation in Ontario (40-77 g CO2 / kWh)\n",
    "# * 40 g / kWh (https://www.neb-one.gc.ca/nrg/sttstc/lctrct/rprt/\n",
    "#               2017cndrnwblpwr/ghgmssn-eng.html)\n",
    "# * 77 g / kWh (https://www.conferenceboard.ca/hcp/provincial/environment/\n",
    "#               low-emitting-electricity-production.aspx)\n",
    "# * This is likely to go up when Pickering is closed\n",
    "#   https://www.opg.com/darlington-refurbishment/Documents/IntrinsikReport_GHG_OntarioPower.pdf\n",
    "\n",
    "carbon_intensity_kgCO2_per_kwh = 0.077\n",
    "\n",
    "plt.figure()\n",
    "df[\"kgCO2\"] = df[\"Total Consumption\"] * carbon_intensity_kgCO2_per_kwh\n",
    "df[\"year\"] = [int(x[0:4]) for x in df.index]\n",
    "df[\"month\"] = [int(x[5:7]) for x in df.index]\n",
    "(df.groupby(\"year\").sum()[\"kgCO2\"] / 1e3).plot.bar(width=bin_width)\n",
    "plt.title(\"Annual CO$_2$e emissions from electricity\")\n",
    "plt.ylabel(\"tCO$_2$e\")\n",
    "plt.savefig(\n",
    "    os.path.join(\"images\", \"annual_co2_emissions_electricity.png\"),\n",
    "    bbox_inches=bbox_inches,\n",
    "    transparent=transparent,\n",
    "    facecolor=facecolor,\n",
    ")\n",
    "\n",
    "print(\"annual electricity usage: %.1f kWh\" % (df[\"Total Consumption\"].iloc[-12:].sum()))\n",
    "print(\"annual electricity cost: $%.2f\" % (df[\"Total\"].iloc[-12:].sum()))\n",
    "print(\n",
    "    \"annual CO2 emissions from electricity: %.2f kg\"\n",
    "    % (df[\"Total Consumption\"].iloc[-12:].sum() * carbon_intensity_kgCO2_per_kwh)\n",
    ")"
   ]
  },
  {
   "cell_type": "markdown",
   "id": "b6dc5b58-4cd8-468f-9708-bdebd8772ba9",
   "metadata": {},
   "source": [
    "## CO2 emissions vs previous year"
   ]
  },
  {
   "cell_type": "code",
   "execution_count": 4,
   "id": "7ad3dce3-2df8-4920-844d-c04d80005a7d",
   "metadata": {},
   "outputs": [
    {
     "data": {
      "image/png": "[encoded data removed]",
      "text/plain": [
       "<Figure size 864x432 with 2 Axes>"
      ]
     },
     "metadata": {
      "needs_background": "light"
     },
     "output_type": "display_data"
    },
    {
     "data": {
      "image/png": "[encoded data removed]",
      "text/plain": [
       "<Figure size 864x432 with 2 Axes>"
      ]
     },
     "metadata": {
      "needs_background": "light"
     },
     "output_type": "display_data"
    }
   ],
   "source": [
    "n_years_history = 1\n",
    "\n",
    "plt.figure()\n",
    "for year, df_year in df.groupby(\"year\"):\n",
    "    if year >= dt.datetime.utcnow().year - n_years_history:\n",
    "        df_year.sort_values(\"month\", inplace=True)\n",
    "        plt.bar(\n",
    "            df_year[\"month\"],\n",
    "            df_year[\"Total Consumption\"],\n",
    "            label=year,\n",
    "            width=bin_width,\n",
    "            alpha=alpha,\n",
    "        )\n",
    "plt.legend()\n",
    "plt.ylabel(\"m$^3$\")\n",
    "plt.xlabel(\"Month\")\n",
    "ylim = plt.ylim()\n",
    "ax = plt.gca()\n",
    "ax2 = ax.twinx()\n",
    "plt.ylabel(\"tCO$_2$e\")\n",
    "plt.title(\"Monthly CO$_2$e emissions from electricity\")\n",
    "plt.savefig(\n",
    "    os.path.join(\"images\", \"monthly_co2_emissions_electricity.png\"),\n",
    "    bbox_inches=bbox_inches,\n",
    "    transparent=transparent,\n",
    "    facecolor=facecolor,\n",
    ")\n",
    "\n",
    "plt.figure()\n",
    "for year, df_year in df.groupby(\"year\"):\n",
    "    if year >= dt.datetime.utcnow().year - n_years_history:\n",
    "        df_year.sort_values(\"month\", inplace=True)\n",
    "        plt.bar(\n",
    "            df_year[\"month\"],\n",
    "            np.cumsum(df_year[\"Total Consumption\"]),\n",
    "            label=year,\n",
    "            width=bin_width,\n",
    "            alpha=alpha,\n",
    "        )\n",
    "plt.legend()\n",
    "plt.ylabel(\"m$^3$\")\n",
    "plt.xlabel(\"Month\")\n",
    "ylim = plt.ylim()\n",
    "ax = plt.gca()\n",
    "ax2 = ax.twinx()\n",
    "plt.ylabel(\"tCO$_2$e\")\n",
    "plt.title(\"Cumulative CO$_2$e emissions from electricity per year\")\n",
    "plt.savefig(\n",
    "    os.path.join(\"images\", \"cumulative_co2_emissions_electricity.png\"),\n",
    "    bbox_inches=bbox_inches,\n",
    "    transparent=transparent,\n",
    "    facecolor=facecolor,\n",
    ")"
   ]
  },
  {
   "cell_type": "markdown",
   "id": "4fe53189-ea09-4775-8f41-4d5d68ae187c",
   "metadata": {},
   "source": [
    "## Save data as `downloads.zip` or print link to gdrive folder\n",
    "\n",
    "Generate a zip file with all of the data. `Right-click` on the file `downloads.zip` in the file browser on the left (it'll be in the `notebooks` folder). If `DATA_PATH` is a google drive link, print the url."
   ]
  },
  {
   "cell_type": "code",
   "execution_count": 5,
   "id": "9a9a1106-e3d9-45c0-b104-581ca70c4036",
   "metadata": {},
   "outputs": [
    {
     "name": "stdout",
     "output_type": "stream",
     "text": [
      "https://drive.google.com/drive/u/0/folders/13ai3ELMsIrhjFGcv2Lqbwzb4sGkEWK-Y\n"
     ]
    }
   ],
   "source": [
    "from utility_bill_scraper import is_gdrive_path\n",
    "\n",
    "if is_gdrive_path(data_path):\n",
    "    print(data_path)\n",
    "else:\n",
    "    print(shutil.make_archive(os.path.join(\".\", \"download\"), \"zip\", data_path))"
   ]
  }
 ],
 "metadata": {
  "jupytext": {
   "formats": "ipynb,py:light"
  },
  "kernelspec": {
   "display_name": "Python 3 (ipykernel)",
   "language": "python",
   "name": "python3"
  },
  "language_info": {
   "codemirror_mode": {
    "name": "ipython",
    "version": 3
   },
   "file_extension": ".py",
   "mimetype": "text/x-python",
   "name": "python",
   "nbconvert_exporter": "python",
   "pygments_lexer": "ipython3",
   "version": "3.10.0"
  }
 },
 "nbformat": 4,
 "nbformat_minor": 5
}
