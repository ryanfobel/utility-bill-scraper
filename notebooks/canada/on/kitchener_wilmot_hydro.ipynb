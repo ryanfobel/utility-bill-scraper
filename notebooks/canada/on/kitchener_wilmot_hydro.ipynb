{
 "cells": [
  {
   "cell_type": "markdown",
   "id": "81e22fbc",
   "metadata": {},
   "source": [
    "[![Open in Colab](https://colab.research.google.com/assets/colab-badge.svg)](https://colab.research.google.com/github/ryanfobel/utility-bill-scraper/blob/main/notebooks%2Fcanada%2Fon%2Fkitchener_wilmot_hydro.ipynb)\n",
    "\n",
    "# Introduction\n",
    "\n",
    "This notebook will help you to download `pdf` statements and data from a [Kitchener-Wilmot Hydro](https://www.kwhydro.on.ca) account. Launch an interactive version by clicking on the `Open in Colab` badge at the top of this page."
   ]
  },
  {
   "cell_type": "markdown",
   "id": "96bcbfca-29fa-40f4-b8b0-94195daca93a",
   "metadata": {},
   "source": [
    "# Download data\n",
    "\n",
    "To run the notebook, choose `Runtime/Run all` from the menu or press `CTRL`+`F9`. The notebook may promp you for inputs (e.g., authorization to conect to your google drive, username, password). If you're running this in Google Colab, the files will be automatically saved to your Google Drive in the folder `Google Drive/Colab Notebooks/data`."
   ]
  },
  {
   "cell_type": "code",
   "execution_count": 1,
   "id": "842fee83",
   "metadata": {
    "lines_to_next_cell": 2
   },
   "outputs": [
    {
     "name": "stdout",
     "output_type": "stream",
     "text": [
      "Download file from google drive(file_id=16srVcNXMkblkPtm-j0nRk6D0iW5ieg48, local_path=/tmp/tmpx_lgjfxe/monthly.csv\n",
      "Download file from google drive(file_id=1L5kUlljjgzJw3zRvKIcwM4Ovoo0c49Os, local_path=/tmp/tmpx_lgjfxe/hourly.csv\n",
      "Upload file to google drive(file_id=16srVcNXMkblkPtm-j0nRk6D0iW5ieg48, local_path=/tmp/tmpx_lgjfxe/monthly.csv\n",
      "Upload file to google drive(file_id=1L5kUlljjgzJw3zRvKIcwM4Ovoo0c49Os, local_path=/tmp/tmpx_lgjfxe/hourly.csv\n",
      "0 statements_downloaded\n"
     ]
    },
    {
     "data": {
      "text/html": [
       "<div>\n",
       "<style scoped>\n",
       "    .dataframe tbody tr th:only-of-type {\n",
       "        vertical-align: middle;\n",
       "    }\n",
       "\n",
       "    .dataframe tbody tr th {\n",
       "        vertical-align: top;\n",
       "    }\n",
       "\n",
       "    .dataframe thead th {\n",
       "        text-align: right;\n",
       "    }\n",
       "</style>\n",
       "<table border=\"1\" class=\"dataframe\">\n",
       "  <thead>\n",
       "    <tr style=\"text-align: right;\">\n",
       "      <th></th>\n",
       "      <th>Total</th>\n",
       "      <th>Off Peak Consumption</th>\n",
       "      <th>Mid Peak Consumption</th>\n",
       "      <th>On Peak Consumption</th>\n",
       "      <th>Off Peak Rate</th>\n",
       "      <th>Mid Peak Rate</th>\n",
       "      <th>On Peak Rate</th>\n",
       "      <th>Total Consumption</th>\n",
       "    </tr>\n",
       "    <tr>\n",
       "      <th>Date</th>\n",
       "      <th></th>\n",
       "      <th></th>\n",
       "      <th></th>\n",
       "      <th></th>\n",
       "      <th></th>\n",
       "      <th></th>\n",
       "      <th></th>\n",
       "      <th></th>\n",
       "    </tr>\n",
       "  </thead>\n",
       "  <tbody>\n",
       "    <tr>\n",
       "      <th>2021-09-23</th>\n",
       "      <td>99.80</td>\n",
       "      <td>438.80</td>\n",
       "      <td>128.16</td>\n",
       "      <td>116.26</td>\n",
       "      <td>0.082</td>\n",
       "      <td>0.170</td>\n",
       "      <td>0.113</td>\n",
       "      <td>683.22</td>\n",
       "    </tr>\n",
       "    <tr>\n",
       "      <th>2021-10-20</th>\n",
       "      <td>92.14</td>\n",
       "      <td>387.96</td>\n",
       "      <td>133.76</td>\n",
       "      <td>96.00</td>\n",
       "      <td>0.082</td>\n",
       "      <td>0.113</td>\n",
       "      <td>0.170</td>\n",
       "      <td>617.72</td>\n",
       "    </tr>\n",
       "    <tr>\n",
       "      <th>2021-11-10</th>\n",
       "      <td>199.14</td>\n",
       "      <td>436.48</td>\n",
       "      <td>170.30</td>\n",
       "      <td>127.46</td>\n",
       "      <td>0.082</td>\n",
       "      <td>0.113</td>\n",
       "      <td>0.170</td>\n",
       "      <td>734.24</td>\n",
       "    </tr>\n",
       "    <tr>\n",
       "      <th>2021-12-09</th>\n",
       "      <td>95.95</td>\n",
       "      <td>328.82</td>\n",
       "      <td>100.57</td>\n",
       "      <td>160.46</td>\n",
       "      <td>0.082</td>\n",
       "      <td>0.113</td>\n",
       "      <td>0.170</td>\n",
       "      <td>589.85</td>\n",
       "    </tr>\n",
       "    <tr>\n",
       "      <th>2022-01-06</th>\n",
       "      <td>117.69</td>\n",
       "      <td>607.08</td>\n",
       "      <td>119.50</td>\n",
       "      <td>119.91</td>\n",
       "      <td>0.082</td>\n",
       "      <td>0.113</td>\n",
       "      <td>0.170</td>\n",
       "      <td>846.49</td>\n",
       "    </tr>\n",
       "  </tbody>\n",
       "</table>\n",
       "</div>"
      ],
      "text/plain": [
       "             Total  Off Peak Consumption  Mid Peak Consumption  \\\n",
       "Date                                                             \n",
       "2021-09-23   99.80                438.80                128.16   \n",
       "2021-10-20   92.14                387.96                133.76   \n",
       "2021-11-10  199.14                436.48                170.30   \n",
       "2021-12-09   95.95                328.82                100.57   \n",
       "2022-01-06  117.69                607.08                119.50   \n",
       "\n",
       "            On Peak Consumption  Off Peak Rate  Mid Peak Rate  On Peak Rate  \\\n",
       "Date                                                                          \n",
       "2021-09-23               116.26          0.082          0.170         0.113   \n",
       "2021-10-20                96.00          0.082          0.113         0.170   \n",
       "2021-11-10               127.46          0.082          0.113         0.170   \n",
       "2021-12-09               160.46          0.082          0.113         0.170   \n",
       "2022-01-06               119.91          0.082          0.113         0.170   \n",
       "\n",
       "            Total Consumption  \n",
       "Date                           \n",
       "2021-09-23             683.22  \n",
       "2021-10-20             617.72  \n",
       "2021-11-10             734.24  \n",
       "2021-12-09             589.85  \n",
       "2022-01-06             846.49  "
      ]
     },
     "execution_count": 1,
     "metadata": {},
     "output_type": "execute_result"
    }
   ],
   "source": [
    "try:\n",
    "    import utility_bill_scraper\n",
    "except ModuleNotFoundError:\n",
    "    import subprocess\n",
    "    import sys\n",
    "\n",
    "    cmd = (\n",
    "        f\"{sys.executable} -m pip install --upgrade --upgrade-strategy \"\n",
    "        \"only-if-needed \"\n",
    "        \"git+https://github.com/ryanfobel/utility-bill-scraper.git\"\n",
    "    )\n",
    "    subprocess.check_output(cmd, stderr=subprocess.STDOUT, shell=True).decode(\"utf-8\")\n",
    "\n",
    "from utility_bill_scraper import install_colab_dependencies\n",
    "\n",
    "install_colab_dependencies(required_envs=[\"KWHYDRO_USER\", \"KWHYDRO_PASSWORD\"])\n",
    "\n",
    "%matplotlib inline\n",
    "\n",
    "import datetime as dt\n",
    "import os\n",
    "import sys\n",
    "\n",
    "from cycler import cycler\n",
    "from dotenv import load_dotenv\n",
    "import matplotlib.pyplot as plt\n",
    "import numpy as np\n",
    "\n",
    "from utility_bill_scraper import LIGHT_COLORMAP\n",
    "import utility_bill_scraper.canada.on.kitchener_wilmot_hydro as kwh\n",
    "\n",
    "# Plotting preferences\n",
    "plt.rc(\"axes\", prop_cycle=cycler(\"color\", LIGHT_COLORMAP))\n",
    "figsize = (12, 6)\n",
    "bin_width = 0.9\n",
    "alpha = 0.5\n",
    "transparent = False\n",
    "bbox_inches = \"tight\"\n",
    "facecolor = \"white\"\n",
    "\n",
    "# Load the `.env` file into the environment if it exists\n",
    "load_dotenv()\n",
    "\n",
    "api = kwh.KitchenerWilmotHydroAPI(\n",
    "    user=os.getenv(\"KWHYDRO_USER\"),\n",
    "    password=os.getenv(\"KWHYDRO_PASSWORD\"),\n",
    "    data_path=os.getenv(\"DATA_PATH\", os.path.join(\"..\", \"..\", \"..\", \"data\")),\n",
    "    google_sa_credentials=os.getenv(\"GOOGLE_SA_CREDENTIALS\"),\n",
    "    browser=os.getenv(\"BROWSER\", \"Firefox\"),\n",
    ")\n",
    "\n",
    "# Get up to 24 statements (the most recent).\n",
    "updates = api.update(24)\n",
    "if updates is not None:\n",
    "    print(f\"{ len(updates) } statements_downloaded\")\n",
    "api.history(\"monthly\").tail()"
   ]
  },
  {
   "cell_type": "markdown",
   "id": "8fa0a3eb-9d0b-42fc-9af6-9e48b4555b44",
   "metadata": {},
   "source": [
    "## Monthly electricity consumption history"
   ]
  },
  {
   "cell_type": "code",
   "execution_count": 2,
   "id": "f155c108",
   "metadata": {
    "lines_to_next_cell": 0
   },
   "outputs": [
    {
     "data": {
      "text/plain": [
       "<Figure size 432x288 with 0 Axes>"
      ]
     },
     "metadata": {},
     "output_type": "display_data"
    },
    {
     "data": {
      "image/png": "[encoded data removed]",
      "text/plain": [
       "<Figure size 864x432 with 1 Axes>"
      ]
     },
     "metadata": {
      "needs_background": "light"
     },
     "output_type": "display_data"
    }
   ],
   "source": [
    "electricity = api.history(\"monthly\")\n",
    "\n",
    "plt.figure()\n",
    "electricity[[\"On Peak Consumption\", \"Mid Peak Consumption\", \"Off Peak Consumption\"]].plot.bar(\n",
    "    stacked=True,\n",
    "    width=bin_width,\n",
    "    color=[\"#F07E6E\", \"#EDDD46\", \"#90CD97\"],\n",
    "    figsize=figsize,\n",
    ")\n",
    "plt.ylim((0, None))\n",
    "locs, labels = plt.xticks()\n",
    "plt.xticks(locs, labels=[label.get_text().split(\" \")[0] for label in labels]);\n",
    "plt.title(\"Monthly Electricity Consumption\")\n",
    "plt.ylabel(\"kWh\")\n",
    "plt.legend([\"Off Peak\", \"Mid Peak\", \"On Peak\", \"Total\"])\n",
    "ax = plt.gca()\n",
    "ax.spines[\"right\"].set_visible(False)\n",
    "ax.spines[\"top\"].set_visible(False)\n",
    "os.makedirs(\"images\", exist_ok=True)\n",
    "plt.savefig(\n",
    "    os.path.join(\"images\", \"monthly_electricity_consumption.png\"),\n",
    "    bbox_inches=bbox_inches,\n",
    "    transparent=transparent,\n",
    "    facecolor=facecolor,\n",
    ");"
   ]
  },
  {
   "cell_type": "markdown",
   "id": "806af92b-8784-4715-b894-b4964bb7a51e",
   "metadata": {},
   "source": [
    "## Annual CO2 emissions"
   ]
  },
  {
   "cell_type": "code",
   "execution_count": 3,
   "id": "297bedb8-bf51-45e4-ab1b-410438dbfa4e",
   "metadata": {},
   "outputs": [
    {
     "name": "stdout",
     "output_type": "stream",
     "text": [
      "annual electricity usage: 8053.8 kWh\n",
      "annual electricity cost: $1269.96\n",
      "annual CO2 emissions from electricity: 620.14 kg\n"
     ]
    },
    {
     "data": {
      "image/png": "[encoded data removed]",
      "text/plain": [
       "<Figure size 864x432 with 1 Axes>"
      ]
     },
     "metadata": {
      "needs_background": "light"
     },
     "output_type": "display_data"
    }
   ],
   "source": [
    "# Carbon intensity of electricity generation in Ontario (40-77 g CO2 / kWh)\n",
    "# * 40 g / kWh (https://www.neb-one.gc.ca/nrg/sttstc/lctrct/rprt/\n",
    "#               2017cndrnwblpwr/ghgmssn-eng.html)\n",
    "# * 77 g / kWh (https://www.conferenceboard.ca/hcp/provincial/environment/\n",
    "#               low-emitting-electricity-production.aspx)\n",
    "# * This is likely to go up when Pickering is closed\n",
    "#   https://www.opg.com/darlington-refurbishment/Documents/IntrinsikReport_GHG_OntarioPower.pdf\n",
    "\n",
    "carbon_intensity_kgCO2_per_kwh = 0.077\n",
    "\n",
    "plt.figure(figsize=figsize)\n",
    "electricity[\"kgCO2\"] = electricity[\"Total Consumption\"] * carbon_intensity_kgCO2_per_kwh\n",
    "electricity[\"year\"] = [x.year for x in electricity.index]\n",
    "electricity[\"month\"] = [x.month for x in electricity.index]\n",
    "(electricity.groupby(\"year\").sum()[\"kgCO2\"] / 1e3).plot.bar(width=bin_width)\n",
    "plt.title(\"Annual CO$_2$e emissions from electricity\")\n",
    "plt.ylabel(\"tCO$_2$e\")\n",
    "ax = plt.gca()\n",
    "ax.spines[\"right\"].set_visible(False)\n",
    "ax.spines[\"top\"].set_visible(False)\n",
    "os.makedirs(\"images\", exist_ok=True)\n",
    "plt.savefig(\n",
    "    os.path.join(\"images\", \"annual_co2_emissions_electricity.png\"),\n",
    "    bbox_inches=bbox_inches,\n",
    "    transparent=transparent,\n",
    "    facecolor=facecolor,\n",
    ")\n",
    "\n",
    "print(\"annual electricity usage: %.1f kWh\" % (electricity[\"Total Consumption\"].iloc[-12:].sum()))\n",
    "print(\"annual electricity cost: $%.2f\" % (electricity[\"Total\"].iloc[-12:].sum()))\n",
    "print(\n",
    "    \"annual CO2 emissions from electricity: %.2f kg\"\n",
    "    % (electricity[\"Total Consumption\"].iloc[-12:].sum() * carbon_intensity_kgCO2_per_kwh)\n",
    ")"
   ]
  },
  {
   "cell_type": "markdown",
   "id": "b6dc5b58-4cd8-468f-9708-bdebd8772ba9",
   "metadata": {},
   "source": [
    "## CO2 emissions vs previous year"
   ]
  },
  {
   "cell_type": "code",
   "execution_count": 4,
   "id": "7ad3dce3-2df8-4920-844d-c04d80005a7d",
   "metadata": {},
   "outputs": [
    {
     "data": {
      "image/png": "[encoded data removed]",
      "text/plain": [
       "<Figure size 864x432 with 2 Axes>"
      ]
     },
     "metadata": {
      "needs_background": "light"
     },
     "output_type": "display_data"
    },
    {
     "data": {
      "image/png": "[encoded data removed]",
      "text/plain": [
       "<Figure size 864x432 with 2 Axes>"
      ]
     },
     "metadata": {
      "needs_background": "light"
     },
     "output_type": "display_data"
    }
   ],
   "source": [
    "n_years_history = 1\n",
    "\n",
    "plt.figure(figsize=figsize)\n",
    "for year, df_year in electricity.groupby(\"year\"):\n",
    "    if year >= dt.datetime.utcnow().year - n_years_history:\n",
    "        df_year.sort_values(\"month\", inplace=True)\n",
    "        plt.bar(\n",
    "            df_year[\"month\"],\n",
    "            df_year[\"Total Consumption\"],\n",
    "            label=year,\n",
    "            width=bin_width,\n",
    "            alpha=alpha,\n",
    "        )\n",
    "plt.legend()\n",
    "plt.ylabel(\"m$^3$\")\n",
    "plt.xlabel(\"Month\")\n",
    "ylim = plt.ylim()\n",
    "ax = plt.gca()\n",
    "ax2 = ax.twinx()\n",
    "plt.ylabel(\"tCO$_2$e\")\n",
    "plt.title(\"Monthly CO$_2$e emissions from electricity\")\n",
    "ax.spines[\"top\"].set_visible(False)\n",
    "ax2.spines[\"top\"].set_visible(False)\n",
    "os.makedirs(\"images\", exist_ok=True)\n",
    "plt.savefig(\n",
    "    os.path.join(\"images\", \"monthly_co2_emissions_electricity.png\"),\n",
    "    bbox_inches=bbox_inches,\n",
    "    transparent=transparent,\n",
    "    facecolor=facecolor,\n",
    ")\n",
    "\n",
    "plt.figure(figsize=figsize)\n",
    "for year, df_year in electricity.groupby(\"year\"):\n",
    "    if year >= dt.datetime.utcnow().year - n_years_history:\n",
    "        df_year.sort_values(\"month\", inplace=True)\n",
    "        plt.bar(\n",
    "            df_year[\"month\"],\n",
    "            np.cumsum(df_year[\"Total Consumption\"]),\n",
    "            label=year,\n",
    "            width=bin_width,\n",
    "            alpha=alpha,\n",
    "        )\n",
    "plt.legend()\n",
    "plt.ylabel(\"m$^3$\")\n",
    "plt.xlabel(\"Month\")\n",
    "ylim = plt.ylim()\n",
    "ax = plt.gca()\n",
    "ax2 = ax.twinx()\n",
    "plt.ylabel(\"tCO$_2$e\")\n",
    "plt.title(\"Cumulative CO$_2$e emissions from electricity per year\")\n",
    "ax.spines[\"top\"].set_visible(False)\n",
    "ax2.spines[\"top\"].set_visible(False)\n",
    "os.makedirs(\"images\", exist_ok=True)\n",
    "plt.savefig(\n",
    "    os.path.join(\"images\", \"cumulative_co2_emissions_electricity.png\"),\n",
    "    bbox_inches=bbox_inches,\n",
    "    transparent=transparent,\n",
    "    facecolor=facecolor,\n",
    ")"
   ]
  },
  {
   "cell_type": "code",
   "execution_count": 5,
   "id": "e9d39897-5c06-4124-9248-9b5b64c4d2a3",
   "metadata": {},
   "outputs": [
    {
     "data": {
      "text/plain": [
       "<Figure size 432x288 with 0 Axes>"
      ]
     },
     "metadata": {},
     "output_type": "display_data"
    },
    {
     "data": {
      "image/png": "[encoded data removed]",
      "text/plain": [
       "<Figure size 864x432 with 1 Axes>"
      ]
     },
     "metadata": {
      "needs_background": "light"
     },
     "output_type": "display_data"
    }
   ],
   "source": [
    "hourly_usage = api.history(\"hourly\")\n",
    "\n",
    "plt.figure()\n",
    "hourly_usage[-24:].plot.bar(\n",
    "    width=bin_width,\n",
    "    figsize=figsize,\n",
    ")\n",
    "plt.ylim((0, None))\n",
    "locs, labels = plt.xticks()\n",
    "plt.xticks(locs, labels=[label.get_text().split(\" \")[1][:2] for label in labels])\n",
    "plt.xticks(rotation=0)\n",
    "plt.title(\"Hourly Electricity Consumption for %s\" % hourly_usage.index[-1].date())\n",
    "plt.ylabel(\"kWh\")\n",
    "plt.xlabel(\"Time\")\n",
    "ax = plt.gca()\n",
    "ax.get_legend().remove()\n",
    "ax.spines[\"right\"].set_visible(False)\n",
    "ax.spines[\"top\"].set_visible(False)\n",
    "os.makedirs(\"images\", exist_ok=True)\n",
    "plt.savefig(\n",
    "    os.path.join(\"images\", \"hourly_electricity_consumption.png\"),\n",
    "    bbox_inches=bbox_inches,\n",
    "    transparent=transparent,\n",
    "    facecolor=facecolor,\n",
    ");"
   ]
  }
 ],
 "metadata": {
  "kernelspec": {
   "display_name": "Python 3 (ipykernel)",
   "language": "python",
   "name": "python3"
  },
  "language_info": {
   "codemirror_mode": {
    "name": "ipython",
    "version": 3
   },
   "file_extension": ".py",
   "mimetype": "text/x-python",
   "name": "python",
   "nbconvert_exporter": "python",
   "pygments_lexer": "ipython3",
   "version": "3.9.7"
  }
 },
 "nbformat": 4,
 "nbformat_minor": 5
}
