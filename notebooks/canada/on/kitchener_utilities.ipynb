{
 "cells": [
  {
   "cell_type": "markdown",
   "id": "d8bc386c",
   "metadata": {
    "tags": []
   },
   "source": [
    "# Introduction\n",
    "\n",
    "This notebook demonstrates scraping of data from the [Kitchener Utilities](https://www.kitchenerutilities.ca) website and gas & water bills (pdfs).\n",
    "\n",
    "## Setup\n",
    "\n",
    "Fill in your `username` and `password` below, then run all of the cells in the notebook. After running the entire notebook, you'll be able to download your data as a `download.zip` file (containing both a summary `data.csv` and the `*.pdf` statements)."
   ]
  },
  {
   "cell_type": "code",
   "execution_count": 1,
   "id": "5dddd274",
   "metadata": {},
   "outputs": [
    {
     "data": {
      "text/html": [
       "<div>\n",
       "<style scoped>\n",
       "    .dataframe tbody tr th:only-of-type {\n",
       "        vertical-align: middle;\n",
       "    }\n",
       "\n",
       "    .dataframe tbody tr th {\n",
       "        vertical-align: top;\n",
       "    }\n",
       "\n",
       "    .dataframe thead th {\n",
       "        text-align: right;\n",
       "    }\n",
       "</style>\n",
       "<table border=\"1\" class=\"dataframe\">\n",
       "  <thead>\n",
       "    <tr style=\"text-align: right;\">\n",
       "      <th></th>\n",
       "      <th>Account Number</th>\n",
       "      <th>Balance Forward</th>\n",
       "      <th>Gas &amp; Water Charges</th>\n",
       "      <th>Gas Charges</th>\n",
       "      <th>Gas Consumption</th>\n",
       "      <th>Stormwater Rate Charges</th>\n",
       "      <th>Total Due</th>\n",
       "      <th>Water Charges</th>\n",
       "      <th>Water Consumption</th>\n",
       "    </tr>\n",
       "    <tr>\n",
       "      <th>Issue Date</th>\n",
       "      <th></th>\n",
       "      <th></th>\n",
       "      <th></th>\n",
       "      <th></th>\n",
       "      <th></th>\n",
       "      <th></th>\n",
       "      <th></th>\n",
       "      <th></th>\n",
       "      <th></th>\n",
       "    </tr>\n",
       "  </thead>\n",
       "  <tbody>\n",
       "    <tr>\n",
       "      <th>2021-06-15</th>\n",
       "      <td>110159085.0</td>\n",
       "      <td>0.0</td>\n",
       "      <td>68.12</td>\n",
       "      <td>28.51</td>\n",
       "      <td>9.0</td>\n",
       "      <td>16.39</td>\n",
       "      <td>84.51</td>\n",
       "      <td>39.61</td>\n",
       "      <td>7.0</td>\n",
       "    </tr>\n",
       "    <tr>\n",
       "      <th>2021-07-16</th>\n",
       "      <td>110159085.0</td>\n",
       "      <td>0.0</td>\n",
       "      <td>61.49</td>\n",
       "      <td>27.53</td>\n",
       "      <td>6.0</td>\n",
       "      <td>16.39</td>\n",
       "      <td>77.88</td>\n",
       "      <td>33.96</td>\n",
       "      <td>6.0</td>\n",
       "    </tr>\n",
       "    <tr>\n",
       "      <th>2021-08-17</th>\n",
       "      <td>110159085.0</td>\n",
       "      <td>0.0</td>\n",
       "      <td>56.16</td>\n",
       "      <td>27.87</td>\n",
       "      <td>2.0</td>\n",
       "      <td>16.39</td>\n",
       "      <td>72.55</td>\n",
       "      <td>28.29</td>\n",
       "      <td>5.0</td>\n",
       "    </tr>\n",
       "    <tr>\n",
       "      <th>2021-10-18</th>\n",
       "      <td>110159085.0</td>\n",
       "      <td>0.0</td>\n",
       "      <td>85.91</td>\n",
       "      <td>40.63</td>\n",
       "      <td>42.0</td>\n",
       "      <td>16.39</td>\n",
       "      <td>102.30</td>\n",
       "      <td>45.28</td>\n",
       "      <td>8.0</td>\n",
       "    </tr>\n",
       "    <tr>\n",
       "      <th>2021-09-16</th>\n",
       "      <td>110159085.0</td>\n",
       "      <td>0.0</td>\n",
       "      <td>53.51</td>\n",
       "      <td>25.22</td>\n",
       "      <td>4.0</td>\n",
       "      <td>16.39</td>\n",
       "      <td>69.90</td>\n",
       "      <td>28.29</td>\n",
       "      <td>5.0</td>\n",
       "    </tr>\n",
       "  </tbody>\n",
       "</table>\n",
       "</div>"
      ],
      "text/plain": [
       "            Account Number  Balance Forward  Gas & Water Charges  Gas Charges  \\\n",
       "Issue Date                                                                      \n",
       "2021-06-15     110159085.0              0.0                68.12        28.51   \n",
       "2021-07-16     110159085.0              0.0                61.49        27.53   \n",
       "2021-08-17     110159085.0              0.0                56.16        27.87   \n",
       "2021-10-18     110159085.0              0.0                85.91        40.63   \n",
       "2021-09-16     110159085.0              0.0                53.51        25.22   \n",
       "\n",
       "            Gas Consumption  Stormwater Rate Charges  Total Due  \\\n",
       "Issue Date                                                        \n",
       "2021-06-15              9.0                    16.39      84.51   \n",
       "2021-07-16              6.0                    16.39      77.88   \n",
       "2021-08-17              2.0                    16.39      72.55   \n",
       "2021-10-18             42.0                    16.39     102.30   \n",
       "2021-09-16              4.0                    16.39      69.90   \n",
       "\n",
       "            Water Charges  Water Consumption  \n",
       "Issue Date                                    \n",
       "2021-06-15          39.61                7.0  \n",
       "2021-07-16          33.96                6.0  \n",
       "2021-08-17          28.29                5.0  \n",
       "2021-10-18          45.28                8.0  \n",
       "2021-09-16          28.29                5.0  "
      ]
     },
     "execution_count": 1,
     "metadata": {},
     "output_type": "execute_result"
    }
   ],
   "source": [
    "username = \"\"\n",
    "password = \"\"\n",
    "\n",
    "# Plotting preferences\n",
    "bin_width = 0.9\n",
    "alpha = 0.5\n",
    "\n",
    "%matplotlib inline\n",
    "\n",
    "import datetime as dt\n",
    "import os\n",
    "import shutil\n",
    "import sys\n",
    "\n",
    "# Update the path to include the src directory\n",
    "sys.path.insert(0, os.path.abspath(os.path.join(\"..\", \"..\", \"..\", \"src\")))\n",
    "\n",
    "import matplotlib.pyplot as plt\n",
    "import numpy as np\n",
    "from dotenv import load_dotenv\n",
    "from matplotlib import rcParams\n",
    "\n",
    "import utility_bill_scraper.canada.on.kitchener_utilities as ku\n",
    "\n",
    "# Load the `.env` file into the environment if it exists\n",
    "load_dotenv()\n",
    "\n",
    "rcParams.update({\"figure.figsize\": (12, 6)})\n",
    "\n",
    "# If we haven't set a username/password, try getting them from\n",
    "# environment variables.\n",
    "if not username:\n",
    "    username = os.getenv(\"KITCHENER_UTILITIES_USER\")\n",
    "if not password:\n",
    "    password = os.getenv(\"KITCHENER_UTILITIES_PASSWORD\", password)\n",
    "\n",
    "# Set the path where data is saved.\n",
    "data_path = os.path.join(\"..\", \"..\", \"..\", \"data\")\n",
    "\n",
    "ku_api = ku.KitchenerUtilitiesAPI(username, password, data_path)\n",
    "\n",
    "# Get up to 24 statements (the most recent).\n",
    "updates = ku_api.update(24)\n",
    "if updates is not None:\n",
    "    print(f\"{ len(updates) } statements_downloaded\")\n",
    "ku_api.history().tail()"
   ]
  },
  {
   "cell_type": "markdown",
   "id": "ea9f7123",
   "metadata": {},
   "source": [
    "## Monthly consumption history"
   ]
  },
  {
   "cell_type": "code",
   "execution_count": 2,
   "id": "4ade3ac4",
   "metadata": {},
   "outputs": [
    {
     "data": {
      "image/png": "[encoded data removed]",
      "text/plain": [
       "<Figure size 864x432 with 1 Axes>"
      ]
     },
     "metadata": {
      "needs_background": "light"
     },
     "output_type": "display_data"
    },
    {
     "data": {
      "image/png": "[encoded data removed]",
      "text/plain": [
       "<Figure size 864x432 with 1 Axes>"
      ]
     },
     "metadata": {
      "needs_background": "light"
     },
     "output_type": "display_data"
    }
   ],
   "source": [
    "df_ku = ku_api.history()\n",
    "\n",
    "plt.figure()\n",
    "plt.bar(df_ku.index, df_ku[\"Gas Consumption\"], width=bin_width, alpha=alpha)\n",
    "plt.xticks(rotation=90)\n",
    "plt.title(\"Monthly Gas Consumption\")\n",
    "plt.ylabel(\"m$^3$\")\n",
    "os.makedirs(\"images\", exist_ok=True)\n",
    "plt.savefig(os.path.join(\"images\", \"monthly_gas_consumption.svg\"), bbox_inches=\"tight\")\n",
    "\n",
    "plt.figure()\n",
    "plt.bar(df_ku.index, df_ku[\"Water Consumption\"], width=bin_width, alpha=alpha)\n",
    "plt.xticks(rotation=90)\n",
    "plt.title(\"Monthly Water Consumption\")\n",
    "plt.ylabel(\"m$^3$\")\n",
    "plt.savefig(os.path.join(\"images\", \"monthly_water_consumption.svg\"), bbox_inches=\"tight\")"
   ]
  },
  {
   "cell_type": "markdown",
   "id": "2249bd1b",
   "metadata": {},
   "source": [
    "## Annual CO2 emissions"
   ]
  },
  {
   "cell_type": "code",
   "execution_count": 3,
   "id": "883c333f",
   "metadata": {},
   "outputs": [
    {
     "data": {
      "image/png": "[encoded data removed]",
      "text/plain": [
       "<Figure size 864x432 with 2 Axes>"
      ]
     },
     "metadata": {
      "needs_background": "light"
     },
     "output_type": "display_data"
    }
   ],
   "source": [
    "from utility_bill_scraper import GAS_KGCO2_PER_CUBIC_METER\n",
    "\n",
    "df_ku[\"kgCO2\"] = df_ku[\"Gas Consumption\"] * GAS_KGCO2_PER_CUBIC_METER\n",
    "df_ku[\"year\"] = [int(x[0:4]) for x in df_ku.index]\n",
    "df_ku[\"month\"] = [int(x[5:7]) for x in df_ku.index]\n",
    "\n",
    "plt.figure()\n",
    "df_ku.groupby(\"year\").sum()[\"Gas Consumption\"].plot.bar(width=bin_width, alpha=alpha)\n",
    "plt.ylabel(\"m$^3$\")\n",
    "ylim = plt.ylim()\n",
    "ax = plt.gca()\n",
    "ax2 = ax.twinx()\n",
    "plt.ylabel(\"tCO$_2$e\")\n",
    "plt.ylim([GAS_KGCO2_PER_CUBIC_METER * y / 1e3 for y in ylim])\n",
    "plt.title(\"Annual CO$_2$e emissions from natural gas\")\n",
    "plt.savefig(os.path.join(\"images\", \"annual_co2_emissions.svg\"), bbox_inches=\"tight\")"
   ]
  },
  {
   "cell_type": "markdown",
   "id": "325d3e18",
   "metadata": {},
   "source": [
    "# CO2 emissions vs previous year"
   ]
  },
  {
   "cell_type": "code",
   "execution_count": 4,
   "id": "84621a5a",
   "metadata": {},
   "outputs": [
    {
     "data": {
      "image/png": "[encoded data removed]",
      "text/plain": [
       "<Figure size 864x432 with 2 Axes>"
      ]
     },
     "metadata": {
      "needs_background": "light"
     },
     "output_type": "display_data"
    },
    {
     "data": {
      "image/png": "[encoded data removed]",
      "text/plain": [
       "<Figure size 864x432 with 2 Axes>"
      ]
     },
     "metadata": {
      "needs_background": "light"
     },
     "output_type": "display_data"
    }
   ],
   "source": [
    "n_years_history = 1\n",
    "\n",
    "plt.figure()\n",
    "for year, df_year in df_ku.groupby(\"year\"):\n",
    "    if year >= dt.datetime.utcnow().year - n_years_history:\n",
    "        df_year.sort_values(\"month\", inplace=True)\n",
    "        plt.bar(\n",
    "            df_year[\"month\"],\n",
    "            df_year[\"Gas Consumption\"],\n",
    "            label=year,\n",
    "            width=bin_width,\n",
    "            alpha=alpha,\n",
    "        )\n",
    "plt.legend()\n",
    "plt.ylabel(\"m$^3$\")\n",
    "plt.xlabel(\"Month\")\n",
    "ylim = plt.ylim()\n",
    "ax = plt.gca()\n",
    "ax2 = ax.twinx()\n",
    "plt.ylabel(\"tCO$_2$e\")\n",
    "plt.ylim([GAS_KGCO2_PER_CUBIC_METER * y / 1e3 for y in ylim])\n",
    "plt.title(\"Monthly CO$_2$e emissions from natural gas\")\n",
    "plt.savefig(os.path.join(\"images\", \"monthly_co2_emissions.svg\"), bbox_inches=\"tight\")\n",
    "\n",
    "plt.figure()\n",
    "for year, df_year in df_ku.groupby(\"year\"):\n",
    "    if year >= dt.datetime.utcnow().year - n_years_history:\n",
    "        df_year.sort_values(\"month\", inplace=True)\n",
    "        plt.bar(\n",
    "            df_year[\"month\"],\n",
    "            np.cumsum(df_year[\"Gas Consumption\"]),\n",
    "            label=year,\n",
    "            width=bin_width,\n",
    "            alpha=alpha,\n",
    "        )\n",
    "plt.legend()\n",
    "plt.ylabel(\"m$^3$\")\n",
    "plt.xlabel(\"Month\")\n",
    "ylim = plt.ylim()\n",
    "ax = plt.gca()\n",
    "ax2 = ax.twinx()\n",
    "plt.ylabel(\"tCO$_2$e\")\n",
    "plt.ylim([GAS_KGCO2_PER_CUBIC_METER * y / 1e3 for y in ylim])\n",
    "plt.title(\"Cumulative CO$_2$e emissions from natural gas per year\")\n",
    "plt.savefig(os.path.join(\"images\", \"cumulative_co2_emissions.svg\"), bbox_inches=\"tight\")"
   ]
  },
  {
   "cell_type": "markdown",
   "id": "53b91a30",
   "metadata": {},
   "source": [
    "## Save data as `downloads.zip`\n",
    "\n",
    "Generate a zip file with all of the data\n",
    "`Right-click` on the file `downloads.zip` in the file browser on the left (it'll be in the notebooks folder).\n"
   ]
  },
  {
   "cell_type": "code",
   "execution_count": 5,
   "id": "4d6d2827",
   "metadata": {},
   "outputs": [
    {
     "data": {
      "text/plain": [
       "'C:\\\\Users\\\\ryan\\\\OneDrive\\\\dev\\\\python\\\\utility-bill-scraper\\\\notebooks\\\\canada\\\\on\\\\download.zip'"
      ]
     },
     "execution_count": 5,
     "metadata": {},
     "output_type": "execute_result"
    }
   ],
   "source": [
    "shutil.make_archive(os.path.join(\".\", \"download\"), \"zip\", data_path)"
   ]
  }
 ],
 "metadata": {
  "jupytext": {
   "formats": "ipynb,py:percent"
  },
  "kernelspec": {
   "display_name": "Python 3",
   "language": "python",
   "name": "python3"
  },
  "language_info": {
   "codemirror_mode": {
    "name": "ipython",
    "version": 3
   },
   "file_extension": ".py",
   "mimetype": "text/x-python",
   "name": "python",
   "nbconvert_exporter": "python",
   "pygments_lexer": "ipython3",
   "version": "3.6.13"
  }
 },
 "nbformat": 4,
 "nbformat_minor": 5
}
