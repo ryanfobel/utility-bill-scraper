{
 "cells": [
  {
   "cell_type": "markdown",
   "id": "d8bc386c",
   "metadata": {
    "tags": []
   },
   "source": [
    "[![Open in Colab](https://colab.research.google.com/assets/colab-badge.svg)](https://colab.research.google.com/github/ryanfobel/utility-bill-scraper/blob/main/notebooks%2Fcanada%2Fon%2Fkitchener_utilities.ipynb)\n",
    "[![Binder](https://mybinder.org/badge_logo.svg)](https://mybinder.org/v2/gh/ryanfobel/utility-bill-scraper/main?labpath=notebooks%2Fcanada%2Fon%2Fkitchener_utilities.ipynb)\n",
    "\n",
    "# Introduction\n",
    "\n",
    "This notebook demonstrates downloading pdf statements and extracting data from a [Kitchener Utilities](https://www.kitchenerutilities.ca) account. You can launch an interactive version of this page by clicking on one of the badges at the top of the page (Colab or Binder).\n",
    "\n",
    "## Install dependencies\n",
    "\n",
    "The first time you run this notebook, you need to run the cell below to install some dependencies. Click on the cell below, then either click the play button or press `SHIFT`+`ENTER`. The notebook may promp you for inputs (e.g., authorization to conect to your google drive, username, password). If you are running the notebook in Google Colab, you will also need to restart the runtime afterwards by clicking `Runtime/Restart runtime` from the menu."
   ]
  },
  {
   "cell_type": "code",
   "execution_count": null,
   "id": "82a27c91-43c6-497c-82ce-b657e6dbb3cd",
   "metadata": {},
   "outputs": [],
   "source": [
    "try:\n",
    "    import utility_bill_scraper\n",
    "except ModuleNotFoundError:\n",
    "    import subprocess\n",
    "    import sys\n",
    "\n",
    "    cmd = (\n",
    "        f\"{sys.executable} -m pip install --force-reinstall \"\n",
    "        \"git+https://github.com/ryanfobel/utility-bill-scraper.git@colab\"\n",
    "    )\n",
    "    subprocess.check_output(cmd, stderr=subprocess.STDOUT, shell=True).decode(\"utf-8\")\n",
    "\n",
    "from utility_bill_scraper import install_colab_dependencies\n",
    "\n",
    "install_colab_dependencies(\n",
    "    required_envs=[\"KITCHENER_UTILITIES_USER\", \"KITCHENER_UTILITIES_PASSWORD\"]\n",
    ")"
   ]
  },
  {
   "cell_type": "markdown",
   "id": "60c218f7-61bd-47bd-8126-382e449d21c2",
   "metadata": {},
   "source": [
    "# Downloading data\n",
    "\n",
    "Run the rest of the cells in the notebook (press `SHIFT`+`ENTER` to run each cell individually or run the entire notebook by selecting `Run`/`Run all cells` from the menu. After the notebook finishes running (~1-5 minutes), you'll be able to download your data as a `download.zip` file (containing both a summary `monthly.csv` and the `*.pdf` statements). This file should appear in the file browser on the left and you can download it by `Right-clicking` on it and clicking `Download`. Alternatively, if you're running this in Google Colab, the files will be automatically saved to your Google Drive in the folder `Google Drive/Colab Notebooks/data`."
   ]
  },
  {
   "cell_type": "code",
   "execution_count": null,
   "id": "5dddd274",
   "metadata": {},
   "outputs": [],
   "source": [
    "%matplotlib inline\n",
    "\n",
    "import datetime as dt\n",
    "import os\n",
    "import shutil\n",
    "import sys\n",
    "\n",
    "import matplotlib.pyplot as plt\n",
    "import numpy as np\n",
    "from dotenv import load_dotenv\n",
    "from matplotlib import rcParams\n",
    "\n",
    "import utility_bill_scraper.canada.on.kitchener_utilities as ku\n",
    "from utility_bill_scraper import install_colab_dependencies\n",
    "\n",
    "install_colab_dependencies(\n",
    "    required_envs=[\"KITCHENER_UTILITIES_USER\", \"KITCHENER_UTILITIES_PASSWORD\"]\n",
    ")\n",
    "\n",
    "# Plotting preferences\n",
    "bin_width = 0.9\n",
    "alpha = 0.5\n",
    "transparent = False\n",
    "bbox_inches = \"tight\"\n",
    "facecolor = \"white\"\n",
    "rcParams.update({\"figure.figsize\": (12, 6)})\n",
    "\n",
    "# Load the `.env` file into the environment if it exists\n",
    "load_dotenv()\n",
    "\n",
    "api = ku.KitchenerUtilitiesAPI(\n",
    "    user=os.getenv(\"KITCHENER_UTILITIES_USER\"),\n",
    "    password=os.getenv(\"KITCHENER_UTILITIES_PASSWORD\"),\n",
    "    data_path=os.getenv(\"DATA_PATH\", os.path.join(\"..\", \"..\", \"..\", \"data\")),\n",
    "    google_sa_credentials=os.getenv(\"GOOGLE_SA_CREDENTIALS\"),\n",
    "    browser=os.getenv(\"BROWSER\", \"Firefox\"),\n",
    ")\n",
    "\n",
    "# Get up to 24 statements (the most recent).\n",
    "updates = api.update(24)\n",
    "if updates is not None:\n",
    "    print(f\"{ len(updates) } statements_downloaded\")\n",
    "api.history(\"monthly\").tail()"
   ]
  },
  {
   "cell_type": "markdown",
   "id": "ea9f7123",
   "metadata": {},
   "source": [
    "# Plotting data\n",
    "\n",
    "## Monthly consumption history"
   ]
  },
  {
   "cell_type": "code",
   "execution_count": null,
   "id": "4ade3ac4",
   "metadata": {},
   "outputs": [],
   "source": [
    "df = api.history(\"monthly\")\n",
    "\n",
    "plt.figure()\n",
    "plt.bar(df.index, df[\"Gas Consumption\"], width=bin_width, alpha=alpha)\n",
    "plt.xticks(rotation=90)\n",
    "plt.title(\"Monthly Gas Consumption\")\n",
    "plt.ylabel(\"m$^3$\")\n",
    "os.makedirs(\"images\", exist_ok=True)\n",
    "plt.savefig(\n",
    "    os.path.join(\"images\", \"monthly_gas_consumption.png\"),\n",
    "    bbox_inches=bbox_inches,\n",
    "    transparent=transparent,\n",
    "    facecolor=facecolor,\n",
    ")\n",
    "\n",
    "plt.figure()\n",
    "plt.bar(df.index, df[\"Water Consumption\"], width=bin_width, alpha=alpha)\n",
    "plt.xticks(rotation=90)\n",
    "plt.title(\"Monthly Water Consumption\")\n",
    "plt.ylabel(\"m$^3$\")\n",
    "plt.savefig(\n",
    "    os.path.join(\"images\", \"monthly_water_consumption.png\"),\n",
    "    bbox_inches=bbox_inches,\n",
    "    transparent=transparent,\n",
    "    facecolor=facecolor,\n",
    ")"
   ]
  },
  {
   "cell_type": "markdown",
   "id": "2249bd1b",
   "metadata": {},
   "source": [
    "## Annual CO2 emissions"
   ]
  },
  {
   "cell_type": "code",
   "execution_count": null,
   "id": "883c333f",
   "metadata": {},
   "outputs": [],
   "source": [
    "from utility_bill_scraper import GAS_KGCO2_PER_CUBIC_METER\n",
    "\n",
    "df[\"kgCO2\"] = df[\"Gas Consumption\"] * GAS_KGCO2_PER_CUBIC_METER\n",
    "df[\"year\"] = [int(x[0:4]) for x in df.index]\n",
    "df[\"month\"] = [int(x[5:7]) for x in df.index]\n",
    "\n",
    "plt.figure()\n",
    "df.groupby(\"year\").sum()[\"Gas Consumption\"].plot.bar(width=bin_width, alpha=alpha)\n",
    "plt.ylabel(\"m$^3$\")\n",
    "ylim = plt.ylim()\n",
    "ax = plt.gca()\n",
    "ax2 = ax.twinx()\n",
    "plt.ylabel(\"tCO$_2$e\")\n",
    "plt.ylim([GAS_KGCO2_PER_CUBIC_METER * y / 1e3 for y in ylim])\n",
    "plt.title(\"Annual CO$_2$e emissions from natural gas\")\n",
    "plt.savefig(\n",
    "    os.path.join(\"images\", \"annual_co2_emissions_natural_gas.png\"),\n",
    "    bbox_inches=bbox_inches,\n",
    "    transparent=transparent,\n",
    "    facecolor=facecolor,\n",
    ")"
   ]
  },
  {
   "cell_type": "markdown",
   "id": "325d3e18",
   "metadata": {},
   "source": [
    "## CO2 emissions vs previous year"
   ]
  },
  {
   "cell_type": "code",
   "execution_count": null,
   "id": "84621a5a",
   "metadata": {},
   "outputs": [],
   "source": [
    "n_years_history = 1\n",
    "\n",
    "plt.figure()\n",
    "for year, df_year in df.groupby(\"year\"):\n",
    "    if year >= dt.datetime.utcnow().year - n_years_history:\n",
    "        df_year.sort_values(\"month\", inplace=True)\n",
    "        plt.bar(\n",
    "            df_year[\"month\"],\n",
    "            df_year[\"Gas Consumption\"],\n",
    "            label=year,\n",
    "            width=bin_width,\n",
    "            alpha=alpha,\n",
    "        )\n",
    "plt.legend()\n",
    "plt.ylabel(\"m$^3$\")\n",
    "plt.xlabel(\"Month\")\n",
    "ylim = plt.ylim()\n",
    "ax = plt.gca()\n",
    "ax2 = ax.twinx()\n",
    "plt.ylabel(\"tCO$_2$e\")\n",
    "plt.ylim([GAS_KGCO2_PER_CUBIC_METER * y / 1e3 for y in ylim])\n",
    "plt.title(\"Monthly CO$_2$e emissions from natural gas\")\n",
    "plt.savefig(\n",
    "    os.path.join(\"images\", \"monthly_co2_emissions_natural_gas.png\"),\n",
    "    bbox_inches=bbox_inches,\n",
    "    transparent=transparent,\n",
    "    facecolor=facecolor,\n",
    ")\n",
    "\n",
    "plt.figure()\n",
    "for year, df_year in df.groupby(\"year\"):\n",
    "    if year >= dt.datetime.utcnow().year - n_years_history:\n",
    "        df_year.sort_values(\"month\", inplace=True)\n",
    "        plt.bar(\n",
    "            df_year[\"month\"],\n",
    "            np.cumsum(df_year[\"Gas Consumption\"]),\n",
    "            label=year,\n",
    "            width=bin_width,\n",
    "            alpha=alpha,\n",
    "        )\n",
    "plt.legend()\n",
    "plt.ylabel(\"m$^3$\")\n",
    "plt.xlabel(\"Month\")\n",
    "ylim = plt.ylim()\n",
    "ax = plt.gca()\n",
    "ax2 = ax.twinx()\n",
    "plt.ylabel(\"tCO$_2$e\")\n",
    "plt.ylim([GAS_KGCO2_PER_CUBIC_METER * y / 1e3 for y in ylim])\n",
    "plt.title(\"Cumulative CO$_2$e emissions from natural gas per year\")\n",
    "plt.savefig(\n",
    "    os.path.join(\"images\", \"cumulative_co2_emissions_natural_gas.png\"),\n",
    "    bbox_inches=bbox_inches,\n",
    "    transparent=transparent,\n",
    "    facecolor=facecolor,\n",
    ")"
   ]
  },
  {
   "cell_type": "markdown",
   "id": "53b91a30",
   "metadata": {},
   "source": [
    "## Save data as `downloads.zip` or print link to gdrive folder\n",
    "\n",
    "Generate a zip file with all of the data. `Right-click` on the file `downloads.zip` in the file browser on the left (it'll be in the `notebooks` folder). If `DATA_PATH` is a google drive link, print the url. If you're running this in Google Colab, the files will be automatically saved to your Google Drive in the folder `Google Drive/Colab Notebooks/data`."
   ]
  },
  {
   "cell_type": "code",
   "execution_count": null,
   "id": "4d6d2827",
   "metadata": {},
   "outputs": [],
   "source": [
    "from utility_bill_scraper import is_gdrive_path\n",
    "\n",
    "data_path = os.environ[\"DATA_PATH\"]\n",
    "if is_gdrive_path(data_path):\n",
    "    print(data_path)\n",
    "else:\n",
    "    print(shutil.make_archive(os.path.join(\".\", \"download\"), \"zip\", data_path))"
   ]
  }
 ],
 "metadata": {
  "jupytext": {
   "formats": "ipynb,py:percent"
  },
  "kernelspec": {
   "display_name": "Python 3 (ipykernel)",
   "language": "python",
   "name": "python3"
  },
  "language_info": {
   "codemirror_mode": {
    "name": "ipython",
    "version": 3
   },
   "file_extension": ".py",
   "mimetype": "text/x-python",
   "name": "python",
   "nbconvert_exporter": "python",
   "pygments_lexer": "ipython3",
   "version": "3.10.0"
  }
 },
 "nbformat": 4,
 "nbformat_minor": 5
}
