{
 "cells": [
  {
   "cell_type": "markdown",
   "id": "d8bc386c",
   "metadata": {
    "tags": []
   },
   "source": [
    "[![Open in Colab](https://colab.research.google.com/assets/colab-badge.svg)](https://colab.research.google.com/github/ryanfobel/utility-bill-scraper/blob/main/notebooks%2Fcanada%2Fon%2Fkitchener_utilities.ipynb)\n",
    "\n",
    "# Introduction\n",
    "\n",
    "This notebook will help you to download `pdf` statements and data from a [Kitchener Utilities](https://www.kitchenerutilities.ca) account. Launch an interactive version by clicking on the `Open in Colab` badge at the top of this page."
   ]
  },
  {
   "cell_type": "markdown",
   "id": "60c218f7-61bd-47bd-8126-382e449d21c2",
   "metadata": {
    "incorrectly_encoded_metadata": "tags=[] jp-MarkdownHeadingCollapsed=true",
    "tags": []
   },
   "source": [
    "# Download data\n",
    "\n",
    "To run the notebook, choose `Runtime/Run all` from the menu or press `CTRL`+`F9`. The notebook may promp you for inputs (e.g., authorization to conect to your google drive, username, password). If you're running this in Google Colab, the files will be automatically saved to your Google Drive in the folder `Google Drive/Colab Notebooks/data`."
   ]
  },
  {
   "cell_type": "code",
   "execution_count": 1,
   "id": "5dddd274",
   "metadata": {},
   "outputs": [
    {
     "name": "stdout",
     "output_type": "stream",
     "text": [
      "Download file from google drive(file_id=1-IYaB4IdO6rQnNmh-Fo8DyEm5OLQCruo, local_path=/tmp/tmp8kj7r896/monthly.csv\n",
      "Upload file to google drive(file_id=1-IYaB4IdO6rQnNmh-Fo8DyEm5OLQCruo, local_path=/tmp/tmp8kj7r896/monthly.csv\n",
      "0 statements_downloaded\n"
     ]
    },
    {
     "data": {
      "text/html": [
       "<div>\n",
       "<style scoped>\n",
       "    .dataframe tbody tr th:only-of-type {\n",
       "        vertical-align: middle;\n",
       "    }\n",
       "\n",
       "    .dataframe tbody tr th {\n",
       "        vertical-align: top;\n",
       "    }\n",
       "\n",
       "    .dataframe thead th {\n",
       "        text-align: right;\n",
       "    }\n",
       "</style>\n",
       "<table border=\"1\" class=\"dataframe\">\n",
       "  <thead>\n",
       "    <tr style=\"text-align: right;\">\n",
       "      <th></th>\n",
       "      <th>Account Number</th>\n",
       "      <th>Balance Forward</th>\n",
       "      <th>Gas &amp; Water Charges</th>\n",
       "      <th>Gas Charges</th>\n",
       "      <th>Gas Consumption</th>\n",
       "      <th>Stormwater Rate Charges</th>\n",
       "      <th>Total</th>\n",
       "      <th>Water Charges</th>\n",
       "      <th>Water Consumption</th>\n",
       "    </tr>\n",
       "    <tr>\n",
       "      <th>Date</th>\n",
       "      <th></th>\n",
       "      <th></th>\n",
       "      <th></th>\n",
       "      <th></th>\n",
       "      <th></th>\n",
       "      <th></th>\n",
       "      <th></th>\n",
       "      <th></th>\n",
       "      <th></th>\n",
       "    </tr>\n",
       "  </thead>\n",
       "  <tbody>\n",
       "    <tr>\n",
       "      <th>2021-09-16</th>\n",
       "      <td>110159085.0</td>\n",
       "      <td>0.0</td>\n",
       "      <td>53.51</td>\n",
       "      <td>25.22</td>\n",
       "      <td>4.0</td>\n",
       "      <td>16.39</td>\n",
       "      <td>69.90</td>\n",
       "      <td>28.29</td>\n",
       "      <td>5.0</td>\n",
       "    </tr>\n",
       "    <tr>\n",
       "      <th>2021-10-18</th>\n",
       "      <td>110159085.0</td>\n",
       "      <td>0.0</td>\n",
       "      <td>85.91</td>\n",
       "      <td>40.63</td>\n",
       "      <td>42.0</td>\n",
       "      <td>16.39</td>\n",
       "      <td>102.30</td>\n",
       "      <td>45.28</td>\n",
       "      <td>8.0</td>\n",
       "    </tr>\n",
       "    <tr>\n",
       "      <th>2021-11-16</th>\n",
       "      <td>110159085.0</td>\n",
       "      <td>0.0</td>\n",
       "      <td>65.57</td>\n",
       "      <td>37.28</td>\n",
       "      <td>52.0</td>\n",
       "      <td>16.39</td>\n",
       "      <td>81.96</td>\n",
       "      <td>28.29</td>\n",
       "      <td>5.0</td>\n",
       "    </tr>\n",
       "    <tr>\n",
       "      <th>2021-12-14</th>\n",
       "      <td>110159085.0</td>\n",
       "      <td>0.0</td>\n",
       "      <td>131.84</td>\n",
       "      <td>92.23</td>\n",
       "      <td>208.0</td>\n",
       "      <td>16.39</td>\n",
       "      <td>148.23</td>\n",
       "      <td>39.61</td>\n",
       "      <td>7.0</td>\n",
       "    </tr>\n",
       "    <tr>\n",
       "      <th>2022-01-18</th>\n",
       "      <td>110159085.0</td>\n",
       "      <td>0.0</td>\n",
       "      <td>210.81</td>\n",
       "      <td>159.54</td>\n",
       "      <td>383.0</td>\n",
       "      <td>16.39</td>\n",
       "      <td>227.20</td>\n",
       "      <td>51.27</td>\n",
       "      <td>9.0</td>\n",
       "    </tr>\n",
       "  </tbody>\n",
       "</table>\n",
       "</div>"
      ],
      "text/plain": [
       "            Account Number  Balance Forward  Gas & Water Charges  Gas Charges  \\\n",
       "Date                                                                            \n",
       "2021-09-16     110159085.0              0.0                53.51        25.22   \n",
       "2021-10-18     110159085.0              0.0                85.91        40.63   \n",
       "2021-11-16     110159085.0              0.0                65.57        37.28   \n",
       "2021-12-14     110159085.0              0.0               131.84        92.23   \n",
       "2022-01-18     110159085.0              0.0               210.81       159.54   \n",
       "\n",
       "            Gas Consumption  Stormwater Rate Charges   Total  Water Charges  \\\n",
       "Date                                                                          \n",
       "2021-09-16              4.0                    16.39   69.90          28.29   \n",
       "2021-10-18             42.0                    16.39  102.30          45.28   \n",
       "2021-11-16             52.0                    16.39   81.96          28.29   \n",
       "2021-12-14            208.0                    16.39  148.23          39.61   \n",
       "2022-01-18            383.0                    16.39  227.20          51.27   \n",
       "\n",
       "            Water Consumption  \n",
       "Date                           \n",
       "2021-09-16                5.0  \n",
       "2021-10-18                8.0  \n",
       "2021-11-16                5.0  \n",
       "2021-12-14                7.0  \n",
       "2022-01-18                9.0  "
      ]
     },
     "execution_count": 1,
     "metadata": {},
     "output_type": "execute_result"
    }
   ],
   "source": [
    "try:\n",
    "    import utility_bill_scraper\n",
    "except ModuleNotFoundError:\n",
    "    import subprocess\n",
    "    import sys\n",
    "\n",
    "    cmd = (\n",
    "        f\"{sys.executable} -m pip install --upgrade --upgrade-strategy \"\n",
    "        \"only-if-needed \"\n",
    "        \"git+https://github.com/ryanfobel/utility-bill-scraper.git\"\n",
    "    )\n",
    "    subprocess.check_output(cmd, stderr=subprocess.STDOUT, shell=True).decode(\"utf-8\")\n",
    "\n",
    "from utility_bill_scraper import install_colab_dependencies\n",
    "\n",
    "install_colab_dependencies(\n",
    "    required_envs=[\"KITCHENER_UTILITIES_USER\", \"KITCHENER_UTILITIES_PASSWORD\"]\n",
    ")\n",
    "\n",
    "%matplotlib inline\n",
    "\n",
    "import datetime as dt\n",
    "import os\n",
    "import sys\n",
    "\n",
    "from cycler import cycler\n",
    "from dotenv import load_dotenv\n",
    "import matplotlib.pyplot as plt\n",
    "import numpy as np\n",
    "\n",
    "from utility_bill_scraper import LIGHT_COLORMAP\n",
    "import utility_bill_scraper.canada.on.kitchener_utilities as ku\n",
    "\n",
    "# Plotting preferences\n",
    "plt.rc(\"axes\", prop_cycle=cycler(\"color\", LIGHT_COLORMAP))\n",
    "figsize = (12, 6)\n",
    "bin_width = 0.9\n",
    "alpha = 0.5\n",
    "transparent = False\n",
    "bbox_inches = \"tight\"\n",
    "facecolor = \"white\"\n",
    "\n",
    "# Load the `.env` file into the environment if it exists\n",
    "load_dotenv()\n",
    "\n",
    "api = ku.KitchenerUtilitiesAPI(\n",
    "    user=os.getenv(\"KITCHENER_UTILITIES_USER\"),\n",
    "    password=os.getenv(\"KITCHENER_UTILITIES_PASSWORD\"),\n",
    "    data_path=os.getenv(\"DATA_PATH\", os.path.join(\"..\", \"..\", \"..\", \"data\")),\n",
    "    google_sa_credentials=os.getenv(\"GOOGLE_SA_CREDENTIALS\"),\n",
    "    browser=os.getenv(\"BROWSER\", \"Firefox\"),\n",
    ")\n",
    "\n",
    "# Get up to 24 statements (the most recent).\n",
    "updates = api.update(24)\n",
    "if updates is not None:\n",
    "    print(f\"{ len(updates) } statements_downloaded\")\n",
    "api.history(\"monthly\").tail()"
   ]
  },
  {
   "cell_type": "markdown",
   "id": "ea9f7123",
   "metadata": {},
   "source": [
    "# Plotting"
   ]
  },
  {
   "cell_type": "markdown",
   "id": "759d7f2e-5e04-4802-b766-5634112afa86",
   "metadata": {},
   "source": [
    "## Monthly consumption history"
   ]
  },
  {
   "cell_type": "code",
   "execution_count": 2,
   "id": "4ade3ac4",
   "metadata": {},
   "outputs": [
    {
     "data": {
      "image/png": "[encoded data removed]",
      "text/plain": [
       "<Figure size 864x432 with 1 Axes>"
      ]
     },
     "metadata": {
      "needs_background": "light"
     },
     "output_type": "display_data"
    },
    {
     "data": {
      "image/png": "[encoded data removed]",
      "text/plain": [
       "<Figure size 864x432 with 1 Axes>"
      ]
     },
     "metadata": {
      "needs_background": "light"
     },
     "output_type": "display_data"
    }
   ],
   "source": [
    "gas = api.history(\"monthly\")\n",
    "\n",
    "plt.figure(figsize=figsize)\n",
    "gas[\"Gas Consumption\"].plot.bar(\n",
    "    width=bin_width,\n",
    "    figsize=figsize,\n",
    ")\n",
    "plt.xticks(rotation=90)\n",
    "plt.title(\"Monthly Gas Consumption\")\n",
    "plt.ylabel(\"m$^3$\")\n",
    "ax = plt.gca()\n",
    "ax.spines[\"right\"].set_visible(False)\n",
    "ax.spines[\"top\"].set_visible(False)\n",
    "os.makedirs(\"images\", exist_ok=True)\n",
    "plt.savefig(\n",
    "    os.path.join(\"images\", \"monthly_gas_consumption.png\"),\n",
    "    bbox_inches=bbox_inches,\n",
    "    transparent=transparent,\n",
    "    facecolor=facecolor,\n",
    ")\n",
    "locs, labels = plt.xticks()\n",
    "plt.xticks(locs, labels=[label.get_text().split(\" \")[0] for label in labels]);\n",
    "plt.figure(figsize=figsize)\n",
    "gas[\"Water Consumption\"].plot.bar(\n",
    "    width=bin_width,\n",
    "    figsize=figsize,\n",
    ")\n",
    "plt.xticks(rotation=90)\n",
    "plt.title(\"Monthly Water Consumption\")\n",
    "plt.ylabel(\"m$^3$\")\n",
    "ax = plt.gca()\n",
    "ax.spines[\"right\"].set_visible(False)\n",
    "ax.spines[\"top\"].set_visible(False)\n",
    "os.makedirs(\"images\", exist_ok=True)\n",
    "plt.savefig(\n",
    "    os.path.join(\"images\", \"monthly_water_consumption.png\"),\n",
    "    bbox_inches=bbox_inches,\n",
    "    transparent=transparent,\n",
    "    facecolor=facecolor,\n",
    ")\n",
    "locs, labels = plt.xticks()\n",
    "plt.xticks(locs, labels=[label.get_text().split(\" \")[0] for label in labels]);"
   ]
  },
  {
   "cell_type": "markdown",
   "id": "2249bd1b",
   "metadata": {},
   "source": [
    "## Annual CO2 emissions"
   ]
  },
  {
   "cell_type": "code",
   "execution_count": 3,
   "id": "883c333f",
   "metadata": {},
   "outputs": [
    {
     "data": {
      "image/png": "[encoded data removed]",
      "text/plain": [
       "<Figure size 864x432 with 2 Axes>"
      ]
     },
     "metadata": {
      "needs_background": "light"
     },
     "output_type": "display_data"
    }
   ],
   "source": [
    "from utility_bill_scraper import GAS_KGCO2_PER_CUBIC_METER\n",
    "\n",
    "gas[\"kgCO2\"] = gas[\"Gas Consumption\"] * GAS_KGCO2_PER_CUBIC_METER\n",
    "gas[\"year\"] = [date.year for date in gas.index]\n",
    "gas[\"month\"] = [date.month for date in gas.index]\n",
    "\n",
    "plt.figure(figsize=figsize)\n",
    "gas.groupby(\"year\").sum()[\"Gas Consumption\"].plot.bar(width=bin_width, alpha=alpha)\n",
    "plt.ylabel(\"m$^3$\")\n",
    "ylim = plt.ylim()\n",
    "ax = plt.gca()\n",
    "ax2 = ax.twinx()\n",
    "plt.ylabel(\"tCO$_2$e\")\n",
    "plt.ylim([GAS_KGCO2_PER_CUBIC_METER * y / 1e3 for y in ylim])\n",
    "plt.title(\"Annual CO$_2$e emissions from natural gas\")\n",
    "ax.spines[\"top\"].set_visible(False)\n",
    "ax2.spines[\"top\"].set_visible(False)\n",
    "os.makedirs(\"images\", exist_ok=True)\n",
    "plt.savefig(\n",
    "    os.path.join(\"images\", \"annual_co2_emissions_natural_gas.png\"),\n",
    "    bbox_inches=bbox_inches,\n",
    "    transparent=transparent,\n",
    "    facecolor=facecolor,\n",
    ")"
   ]
  },
  {
   "cell_type": "markdown",
   "id": "325d3e18",
   "metadata": {},
   "source": [
    "## CO2 emissions vs previous year"
   ]
  },
  {
   "cell_type": "code",
   "execution_count": 4,
   "id": "84621a5a",
   "metadata": {},
   "outputs": [
    {
     "data": {
      "image/png": "[encoded data removed]",
      "text/plain": [
       "<Figure size 864x432 with 2 Axes>"
      ]
     },
     "metadata": {
      "needs_background": "light"
     },
     "output_type": "display_data"
    },
    {
     "data": {
      "image/png": "[encoded data removed]",
      "text/plain": [
       "<Figure size 864x432 with 2 Axes>"
      ]
     },
     "metadata": {
      "needs_background": "light"
     },
     "output_type": "display_data"
    }
   ],
   "source": [
    "n_years_history = 1\n",
    "\n",
    "plt.figure(figsize=figsize)\n",
    "for year, df_year in gas.groupby(\"year\"):\n",
    "    if year >= dt.datetime.utcnow().year - n_years_history:\n",
    "        df_year.sort_values(\"month\", inplace=True)\n",
    "        plt.bar(\n",
    "            df_year[\"month\"],\n",
    "            df_year[\"Gas Consumption\"],\n",
    "            label=year,\n",
    "            width=bin_width,\n",
    "            alpha=alpha,\n",
    "        )\n",
    "plt.legend()\n",
    "plt.ylabel(\"m$^3$\")\n",
    "plt.xlabel(\"Month\")\n",
    "ylim = plt.ylim()\n",
    "ax = plt.gca()\n",
    "ax2 = ax.twinx()\n",
    "plt.ylabel(\"tCO$_2$e\")\n",
    "plt.ylim([GAS_KGCO2_PER_CUBIC_METER * y / 1e3 for y in ylim])\n",
    "plt.title(\"Monthly CO$_2$e emissions from natural gas\")\n",
    "ax.spines[\"top\"].set_visible(False)\n",
    "ax2.spines[\"top\"].set_visible(False)\n",
    "os.makedirs(\"images\", exist_ok=True)\n",
    "plt.savefig(\n",
    "    os.path.join(\"images\", \"monthly_co2_emissions_natural_gas.png\"),\n",
    "    bbox_inches=bbox_inches,\n",
    "    transparent=transparent,\n",
    "    facecolor=facecolor,\n",
    ")\n",
    "\n",
    "plt.figure(figsize=figsize)\n",
    "for year, df_year in gas.groupby(\"year\"):\n",
    "    if year >= dt.datetime.utcnow().year - n_years_history:\n",
    "        df_year.sort_values(\"month\", inplace=True)\n",
    "        plt.bar(\n",
    "            df_year[\"month\"],\n",
    "            np.cumsum(df_year[\"Gas Consumption\"]),\n",
    "            label=year,\n",
    "            width=bin_width,\n",
    "            alpha=alpha,\n",
    "        )\n",
    "plt.legend()\n",
    "plt.ylabel(\"m$^3$\")\n",
    "plt.xlabel(\"Month\")\n",
    "ylim = plt.ylim()\n",
    "ax = plt.gca()\n",
    "ax2 = ax.twinx()\n",
    "plt.ylabel(\"tCO$_2$e\")\n",
    "plt.ylim([GAS_KGCO2_PER_CUBIC_METER * y / 1e3 for y in ylim])\n",
    "plt.title(\"Cumulative CO$_2$e emissions from natural gas per year\")\n",
    "ax.spines[\"top\"].set_visible(False)\n",
    "ax2.spines[\"top\"].set_visible(False)\n",
    "os.makedirs(\"images\", exist_ok=True)\n",
    "plt.savefig(\n",
    "    os.path.join(\"images\", \"cumulative_co2_emissions_natural_gas.png\"),\n",
    "    bbox_inches=bbox_inches,\n",
    "    transparent=transparent,\n",
    "    facecolor=facecolor,\n",
    ")"
   ]
  }
 ],
 "metadata": {
  "kernelspec": {
   "display_name": "Python 3 (ipykernel)",
   "language": "python",
   "name": "python3"
  },
  "language_info": {
   "codemirror_mode": {
    "name": "ipython",
    "version": 3
   },
   "file_extension": ".py",
   "mimetype": "text/x-python",
   "name": "python",
   "nbconvert_exporter": "python",
   "pygments_lexer": "ipython3",
   "version": "3.9.7"
  }
 },
 "nbformat": 4,
 "nbformat_minor": 5
}
