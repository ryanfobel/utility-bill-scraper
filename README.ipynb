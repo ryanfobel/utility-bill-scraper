{
 "cells": [
  {
   "cell_type": "markdown",
   "id": "31afbe55",
   "metadata": {},
   "source": [
    "# Utility bill scraper\n",
    "\n",
    "[![build](https://github.com/ryanfobel/utility-bill-scraper/actions/workflows/build.yml/badge.svg?branch=main)](https://github.com/ryanfobel/utility-bill-scraper/actions/workflows/build.yml)\n",
    "[![Binder](https://mybinder.org/badge_logo.svg)](https://mybinder.org/v2/gh/ryanfobel/utility-bill-scraper/main)\n",
    "[![PyPI version shields.io](https://img.shields.io/pypi/v/utility-bill-scraper.svg)](https://pypi.python.org/pypi/utility-bill-scraper/)\n",
    "\n",
    "Download energy usage data and estimate CO2 emissions from utility websites or pdf bills.\n",
    "\n",
    "<!-- START doctoc generated TOC please keep comment here to allow auto update -->\n",
    "<!-- DON'T EDIT THIS SECTION, INSTEAD RE-RUN doctoc TO UPDATE -->\n",
    "## Table of contents\n",
    "\n",
    "- [Supported utilities](#supported-utilities)\n",
    "- [Install](#install)\n",
    "- [Data storage](#data-storage)\n",
    "- [Getting and plotting data using the Python API](#getting-and-plotting-data-using-the-python-api)\n",
    "    - [Update data](#update-data)\n",
    "    - [Plot monthly gas consumption](#plot-monthly-gas-consumption)\n",
    "    - [Convert gas consumption to CO2 emissions](#convert-gas-consumption-to-co2-emissions)\n",
    "    - [Plot CO2 emissions versus previous years](#plot-co2-emissions-versus-previous-years)\n",
    "- [Command line utilities](#command-line-utilities)\n",
    "    - [Update data](#update-data-1)\n",
    "    - [Export data](#export-data)\n",
    "    - [Options](#options)\n",
    "    - [Environment variables](#environment-variables)\n",
    "- [Contributors](#contributors)\n",
    "\n",
    "<!-- END doctoc generated TOC please keep comment here to allow auto update -->\n",
    "\n",
    "## Supported utilities\n",
    "\n",
    "The simplest way to get started without installing anything on your computer is to click on one of the following links, which will open a session on https://mybinder.org where you can try downloading some data.\n",
    "\n",
    " * [Kitchener Utilities (gas & water)](https://mybinder.org/v2/gh/ryanfobel/utility-bill-scraper/main?labpath=notebooks%2Fcanada%2Fon%2Fkitchener_utilities.ipynb)\n",
    " \n",
    "## Install\n",
    "\n",
    "```sh\n",
    "pip install utility-bill-scraper\n",
    "```\n",
    "\n",
    "## Data storage\n",
    "\n",
    "All data is stored in a `*.csv` file located at `$DATA_PATH/$UTILITY_NAME/data.csv` .The `DATA_PATH` can be set as input argument when creating an API object via the `data_path` argument, or via the `--data-path` command line switch or `DATA_PATH` environment variable when using the [command line lnterface](#command-line-utilities).\n",
    "\n",
    "```\n",
    "└───data\n",
    "    └───Kitchener Utilities\n",
    "        └───data.csv\n",
    "        └───statements\n",
    "            │───2021-10-18 - Kitchener Utilities - $102.30.pdf\n",
    "            ...\n",
    "            └───2021-06-15 - Kitchener Utilities - $84.51.pdf\n",
    "```"
   ]
  },
  {
   "cell_type": "markdown",
   "id": "2e529d10",
   "metadata": {},
   "source": [
    "## Getting and plotting data using the Python API\n",
    "\n",
    "### Update data\n",
    "\n",
    "```python\n",
    "import utility_bill_scraper.canada.on.kitchener_utilities as ku\n",
    "\n",
    "ku_api = ku.KitchenerUtilitiesAPI(username='username', password='password')\n",
    "\n",
    "# Get new statements.\n",
    "updates = ku_api.update()\n",
    "if updates is not None:\n",
    "    print(f\"{ len(updates) } statements_downloaded\")\n",
    "ku_api.history().tail()\n",
    "```\n",
    "![history tail](https://raw.githubusercontent.com/ryanfobel/utility-bill-scraper/main/notebooks/canada/on/images/history_tail.png)"
   ]
  },
  {
   "cell_type": "markdown",
   "id": "cbdd5c0c",
   "metadata": {},
   "source": [
    "\n"
   ]
  },
  {
   "cell_type": "markdown",
   "id": "d6402b57-5f50-42eb-92c7-aac3651ea765",
   "metadata": {
    "lines_to_next_cell": 0
   },
   "source": [
    "### Plot monthly gas consumption\n",
    "\n",
    "```python\n",
    "import matplotlib.pyplot as plt\n",
    "\n",
    "df_ku = ku_api.history()\n",
    "\n",
    "plt.figure()\n",
    "plt.bar(df_ku.index, df_ku[\"Gas Consumption\"], width=0.9, alpha=0.5)\n",
    "plt.xticks(rotation=90)\n",
    "plt.title(\"Monthly Gas Consumption\")\n",
    "plt.ylabel(\"m$^3$\")\n",
    "```\n",
    "\n",
    "![monthly gas consumption](https://raw.githubusercontent.com/ryanfobel/utility-bill-scraper/main/notebooks/canada/on/images/monthly_gas_consumption.svg)"
   ]
  },
  {
   "cell_type": "markdown",
   "id": "cd2ce9a2-a14b-4897-be70-cf557ceb73ac",
   "metadata": {},
   "source": [
    "### Convert gas consumption to CO2 emissions\n",
    "\n",
    "```python\n",
    "from utility_bill_scraper import GAS_KGCO2_PER_CUBIC_METER\n",
    "\n",
    "df_ku[\"kgCO2\"] = df_ku[\"Gas Consumption\"] * GAS_KGCO2_PER_CUBIC_METER\n",
    "```"
   ]
  },
  {
   "cell_type": "markdown",
   "id": "ad36214f-bc83-4a7c-a4e2-c66abea54ecf",
   "metadata": {
    "lines_to_next_cell": 0
   },
   "source": [
    "### Plot CO2 emissions versus previous years\n",
    "\n",
    "```python\n",
    "import datetime as dt\n",
    "\n",
    "df_ku[\"kgCO2\"] = df_ku[\"Gas Consumption\"] * GAS_KGCO2_PER_CUBIC_METER\n",
    "df_ku[\"year\"] = [int(x[0:4]) for x in df_ku.index]\n",
    "df_ku[\"month\"] = [int(x[5:7]) for x in df_ku.index]\n",
    "\n",
    "n_years_history = 1\n",
    "\n",
    "plt.figure()\n",
    "for year, df_year in df_ku.groupby(\"year\"):\n",
    "    if year >= dt.datetime.utcnow().year - n_years_history:\n",
    "        df_year.sort_values(\"month\", inplace=True)\n",
    "        plt.bar(\n",
    "            df_year[\"month\"],\n",
    "            df_year[\"Gas Consumption\"],\n",
    "            label=year,\n",
    "            width=0.9,\n",
    "            alpha=0.5,\n",
    "        )\n",
    "plt.legend()\n",
    "plt.ylabel(\"m$^3$\")\n",
    "plt.xlabel(\"Month\")\n",
    "ylim = plt.ylim()\n",
    "ax = plt.gca()\n",
    "ax2 = ax.twinx()\n",
    "plt.ylabel(\"tCO$_2$e\")\n",
    "plt.ylim([GAS_KGCO2_PER_CUBIC_METER * y / 1e3 for y in ylim])\n",
    "plt.title(\"Monthly CO$_2$e emissions from natural gas\")\n",
    "```\n",
    "![monthly_co2_emissions](https://raw.githubusercontent.com/ryanfobel/utility-bill-scraper/main/notebooks/canada/on/images/monthly_co2_emissions.svg)"
   ]
  },
  {
   "cell_type": "markdown",
   "id": "9a72bca9",
   "metadata": {},
   "source": [
    "## Command line utilities\n",
    "\n",
    "Update and export your utility data from the command line.\n",
    "\n",
    "### Update data\n",
    "\n",
    "```sh\n",
    "> python -m utility_bill_scraper.bin.ubs --utilty-name \"Kitchener Utilities\" update --user $USER --password $PASSWORD\n",
    "```\n",
    "\n",
    "### Export data\n",
    "\n",
    "```sh\n",
    "> python -m utility_bill_scraper.bin.ubs --utilty-name \"Kitchener Utilities\" export --output data.csv\n",
    "```\n",
    "\n",
    "### Options\n",
    "\n",
    "```sh\n",
    "> python -m utility_bill_scraper.bin.ubs --help\n",
    "usage: ubs.py [-h] [-e ENV] [--data-path DATA_PATH] [--utility-name UTILITY_NAME]\n",
    "              [--google-sa-credentials GOOGLE_SA_CREDENTIALS]\n",
    "              {update,export} ...\n",
    "\n",
    "ubs (Utility bill scraper)\n",
    "\n",
    "optional arguments:\n",
    "  -h, --help            show this help message and exit\n",
    "  -e ENV, --env ENV     path to .env file.\n",
    "  --data-path DATA_PATH\n",
    "                        folder containing the history file\n",
    "  --utility-name UTILITY_NAME\n",
    "                        name of the utility\n",
    "  --google-sa-credentials GOOGLE_SA_CREDENTIALS\n",
    "                        google service account credentials\n",
    "\n",
    "subcommands:\n",
    "  {update,export}       available sub-commands\n",
    "```"
   ]
  },
  {
   "cell_type": "markdown",
   "id": "9b8452f2",
   "metadata": {},
   "source": [
    "### Environment variables\n",
    "\n",
    "Note that many options can be set via environment variables (useful for continuous integration and/or working with containers). The following can be set in your shell or via a `.env` file passed using the `-e` option.\n",
    "\n",
    "```sh\n",
    "DATA_PATH\n",
    "UTILITY_NAME\n",
    "GOOGLE_SA_CREDENTIALS\n",
    "USER\n",
    "PASSWORD\n",
    "SAVE_STATEMENTS\n",
    "MAX_DOWNLOADS\n",
    "```"
   ]
  },
  {
   "cell_type": "markdown",
   "id": "6e0f2913",
   "metadata": {},
   "source": [
    "## Contributors\n",
    "\n",
    "* Ryan Fobel ([@ryanfobel](https://github.com/ryanfobel)"
   ]
  }
 ],
 "metadata": {
  "jupytext": {
   "cell_metadata_filter": "tags,-all",
   "notebook_metadata_filter": "-all"
  },
  "kernelspec": {
   "display_name": "Python 3",
   "language": "python",
   "name": "python3"
  },
  "language_info": {
   "codemirror_mode": {
    "name": "ipython",
    "version": 3
   },
   "file_extension": ".py",
   "mimetype": "text/x-python",
   "name": "python",
   "nbconvert_exporter": "python",
   "pygments_lexer": "ipython3",
   "version": "3.6.13"
  }
 },
 "nbformat": 4,
 "nbformat_minor": 5
}
